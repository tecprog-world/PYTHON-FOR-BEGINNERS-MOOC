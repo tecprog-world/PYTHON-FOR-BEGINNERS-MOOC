{
 "cells": [
  {
   "cell_type": "markdown",
   "id": "724ce9c9",
   "metadata": {},
   "source": [
    "# HOLA MUNDO"
   ]
  },
  {
   "cell_type": "code",
   "execution_count": 5,
   "id": "846ea05d",
   "metadata": {
    "scrolled": false
   },
   "outputs": [
    {
     "name": "stdout",
     "output_type": "stream",
     "text": [
      "Hola mundo!\n"
     ]
    }
   ],
   "source": [
    "print('Hola mundo!')"
   ]
  },
  {
   "cell_type": "markdown",
   "id": "cab2a788",
   "metadata": {},
   "source": [
    "# OPERACIONES ARITMÉTICAS"
   ]
  },
  {
   "cell_type": "code",
   "execution_count": 4,
   "id": "e8dabdee",
   "metadata": {
    "scrolled": false
   },
   "outputs": [
    {
     "data": {
      "text/plain": [
       "7.6"
      ]
     },
     "execution_count": 4,
     "metadata": {},
     "output_type": "execute_result"
    }
   ],
   "source": [
    "2.5+5.1"
   ]
  },
  {
   "cell_type": "code",
   "execution_count": 6,
   "id": "115ede4f",
   "metadata": {},
   "outputs": [
    {
     "data": {
      "text/plain": [
       "-1"
      ]
     },
     "execution_count": 6,
     "metadata": {},
     "output_type": "execute_result"
    }
   ],
   "source": [
    "2+5\n",
    "3-4"
   ]
  },
  {
   "cell_type": "code",
   "execution_count": 7,
   "id": "ed46378d",
   "metadata": {},
   "outputs": [
    {
     "data": {
      "text/plain": [
       "9"
      ]
     },
     "execution_count": 7,
     "metadata": {},
     "output_type": "execute_result"
    }
   ],
   "source": [
    "2+5\n",
    "3-4\n",
    "1+8"
   ]
  },
  {
   "cell_type": "code",
   "execution_count": 16,
   "id": "dcd1724e",
   "metadata": {},
   "outputs": [
    {
     "name": "stdout",
     "output_type": "stream",
     "text": [
      "7\n",
      "-1\n",
      "9\n"
     ]
    }
   ],
   "source": [
    "print(2+5)\n",
    "print(3-4)\n",
    "print(1+8)"
   ]
  },
  {
   "cell_type": "code",
   "execution_count": 17,
   "id": "92657b54",
   "metadata": {},
   "outputs": [
    {
     "data": {
      "text/plain": [
       "290"
      ]
     },
     "execution_count": 17,
     "metadata": {},
     "output_type": "execute_result"
    }
   ],
   "source": [
    "29*10"
   ]
  },
  {
   "cell_type": "code",
   "execution_count": 18,
   "id": "ddd27be9",
   "metadata": {},
   "outputs": [
    {
     "data": {
      "text/plain": [
       "5.0"
      ]
     },
     "execution_count": 18,
     "metadata": {},
     "output_type": "execute_result"
    }
   ],
   "source": [
    "20/4"
   ]
  },
  {
   "cell_type": "code",
   "execution_count": 19,
   "id": "546a8908",
   "metadata": {},
   "outputs": [
    {
     "data": {
      "text/plain": [
       "1"
      ]
     },
     "execution_count": 19,
     "metadata": {},
     "output_type": "execute_result"
    }
   ],
   "source": [
    "10%3"
   ]
  },
  {
   "cell_type": "code",
   "execution_count": 20,
   "id": "76c65fb6",
   "metadata": {},
   "outputs": [
    {
     "data": {
      "text/plain": [
       "2"
      ]
     },
     "execution_count": 20,
     "metadata": {},
     "output_type": "execute_result"
    }
   ],
   "source": [
    "20%3"
   ]
  },
  {
   "cell_type": "code",
   "execution_count": 21,
   "id": "a15cbd3e",
   "metadata": {},
   "outputs": [
    {
     "data": {
      "text/plain": [
       "1"
      ]
     },
     "execution_count": 21,
     "metadata": {},
     "output_type": "execute_result"
    }
   ],
   "source": [
    "28%3"
   ]
  },
  {
   "cell_type": "code",
   "execution_count": 22,
   "id": "d942f512",
   "metadata": {},
   "outputs": [
    {
     "data": {
      "text/plain": [
       "8"
      ]
     },
     "execution_count": 22,
     "metadata": {},
     "output_type": "execute_result"
    }
   ],
   "source": [
    "2**3"
   ]
  },
  {
   "cell_type": "markdown",
   "id": "f5139df2",
   "metadata": {},
   "source": [
    "##### Ejercicio 01\n",
    "\n",
    "Convierte las siguientes expresiones para que pueda ser calculado usando el interprete de Python\n",
    "(2+(5^2))+{3*10}-50 "
   ]
  },
  {
   "cell_type": "code",
   "execution_count": 23,
   "id": "a64ef825",
   "metadata": {},
   "outputs": [
    {
     "data": {
      "text/plain": [
       "7"
      ]
     },
     "execution_count": 23,
     "metadata": {},
     "output_type": "execute_result"
    }
   ],
   "source": [
    "2+(5**2)+(3*10)-50"
   ]
  },
  {
   "cell_type": "markdown",
   "id": "ff5958ec",
   "metadata": {},
   "source": [
    "# VARIABLES"
   ]
  },
  {
   "cell_type": "code",
   "execution_count": 37,
   "id": "cfa99c5a",
   "metadata": {},
   "outputs": [],
   "source": [
    "a=1.3"
   ]
  },
  {
   "cell_type": "code",
   "execution_count": 38,
   "id": "c1c188a9",
   "metadata": {},
   "outputs": [],
   "source": [
    "b=5"
   ]
  },
  {
   "cell_type": "code",
   "execution_count": 39,
   "id": "d2fd2062",
   "metadata": {},
   "outputs": [],
   "source": [
    "c=a+b"
   ]
  },
  {
   "cell_type": "code",
   "execution_count": 27,
   "id": "0b2839ab",
   "metadata": {},
   "outputs": [
    {
     "data": {
      "text/plain": [
       "1"
      ]
     },
     "execution_count": 27,
     "metadata": {},
     "output_type": "execute_result"
    }
   ],
   "source": [
    "a"
   ]
  },
  {
   "cell_type": "code",
   "execution_count": 28,
   "id": "45cca0ef",
   "metadata": {},
   "outputs": [
    {
     "data": {
      "text/plain": [
       "2"
      ]
     },
     "execution_count": 28,
     "metadata": {},
     "output_type": "execute_result"
    }
   ],
   "source": [
    "b"
   ]
  },
  {
   "cell_type": "code",
   "execution_count": 29,
   "id": "a9523b07",
   "metadata": {},
   "outputs": [
    {
     "data": {
      "text/plain": [
       "3"
      ]
     },
     "execution_count": 29,
     "metadata": {},
     "output_type": "execute_result"
    }
   ],
   "source": [
    "c"
   ]
  },
  {
   "cell_type": "code",
   "execution_count": 30,
   "id": "358d8247",
   "metadata": {},
   "outputs": [
    {
     "data": {
      "text/plain": [
       "3"
      ]
     },
     "execution_count": 30,
     "metadata": {},
     "output_type": "execute_result"
    }
   ],
   "source": [
    "a\n",
    "b\n",
    "c"
   ]
  },
  {
   "cell_type": "code",
   "execution_count": 31,
   "id": "1c5fadcf",
   "metadata": {},
   "outputs": [
    {
     "name": "stdout",
     "output_type": "stream",
     "text": [
      "1\n",
      "2\n",
      "3\n"
     ]
    }
   ],
   "source": [
    "print(a)\n",
    "print(b)\n",
    "print(c)"
   ]
  },
  {
   "cell_type": "code",
   "execution_count": 40,
   "id": "e2033a62",
   "metadata": {},
   "outputs": [
    {
     "data": {
      "text/plain": [
       "6.3"
      ]
     },
     "execution_count": 40,
     "metadata": {},
     "output_type": "execute_result"
    }
   ],
   "source": [
    "c"
   ]
  },
  {
   "cell_type": "code",
   "execution_count": 41,
   "id": "e5ea8277",
   "metadata": {},
   "outputs": [
    {
     "data": {
      "text/plain": [
       "float"
      ]
     },
     "execution_count": 41,
     "metadata": {},
     "output_type": "execute_result"
    }
   ],
   "source": [
    "type(a)"
   ]
  },
  {
   "cell_type": "code",
   "execution_count": 42,
   "id": "b84b86c0",
   "metadata": {},
   "outputs": [],
   "source": [
    "p=\"hola\""
   ]
  },
  {
   "cell_type": "code",
   "execution_count": 43,
   "id": "1d807b88",
   "metadata": {},
   "outputs": [
    {
     "data": {
      "text/plain": [
       "'hola'"
      ]
     },
     "execution_count": 43,
     "metadata": {},
     "output_type": "execute_result"
    }
   ],
   "source": [
    "p"
   ]
  },
  {
   "cell_type": "code",
   "execution_count": 44,
   "id": "c4b3aff4",
   "metadata": {},
   "outputs": [
    {
     "name": "stdout",
     "output_type": "stream",
     "text": [
      "hola\n"
     ]
    }
   ],
   "source": [
    "print(p)"
   ]
  },
  {
   "cell_type": "code",
   "execution_count": 45,
   "id": "e2bb3ac8",
   "metadata": {},
   "outputs": [
    {
     "data": {
      "text/plain": [
       "str"
      ]
     },
     "execution_count": 45,
     "metadata": {},
     "output_type": "execute_result"
    }
   ],
   "source": [
    "type(p)"
   ]
  },
  {
   "cell_type": "code",
   "execution_count": 46,
   "id": "983510aa",
   "metadata": {},
   "outputs": [],
   "source": [
    "q=\"Jhon\""
   ]
  },
  {
   "cell_type": "code",
   "execution_count": 47,
   "id": "d23a6314",
   "metadata": {},
   "outputs": [
    {
     "name": "stdout",
     "output_type": "stream",
     "text": [
      "holaJhon\n"
     ]
    }
   ],
   "source": [
    "print(p+q)"
   ]
  },
  {
   "cell_type": "code",
   "execution_count": 48,
   "id": "585c851b",
   "metadata": {},
   "outputs": [
    {
     "name": "stdout",
     "output_type": "stream",
     "text": [
      "hola Jhon\n"
     ]
    }
   ],
   "source": [
    "print(p+\" \"+q)"
   ]
  },
  {
   "cell_type": "code",
   "execution_count": 50,
   "id": "3def274c",
   "metadata": {},
   "outputs": [
    {
     "name": "stdout",
     "output_type": "stream",
     "text": [
      "Esta es la variable a: 1.3\n"
     ]
    }
   ],
   "source": [
    "print(\"Esta es la variable a: \"+str(a))"
   ]
  },
  {
   "cell_type": "markdown",
   "id": "dfbaebfe",
   "metadata": {},
   "source": [
    "###### Ejercicio 02\n",
    "Una persona tiene un salario de 3000 unidades, y se requiere dar un aumento del 5% , que valor será el nuevo salario:"
   ]
  },
  {
   "cell_type": "code",
   "execution_count": 51,
   "id": "3d220fe6",
   "metadata": {},
   "outputs": [
    {
     "name": "stdout",
     "output_type": "stream",
     "text": [
      "3150.0\n"
     ]
    }
   ],
   "source": [
    "salario = 3000\n",
    "aumento = 5\n",
    "print(salario + (salario*5/100))"
   ]
  },
  {
   "cell_type": "markdown",
   "id": "db849eec",
   "metadata": {},
   "source": [
    "##### Ejercicio 03\n",
    "Haga un programa que muestre su nombre.\n",
    "##### Ejercicio 04\n",
    "Escriba un programa que muestre el resultado de 2a*4b , donde a vale 10 y b vale 5\n",
    "##### Ejercicio 05\n",
    "Modifique el ejercicio 02 y halle un aumento del 15%."
   ]
  },
  {
   "cell_type": "markdown",
   "id": "83554d4a",
   "metadata": {},
   "source": [
    "# Variables y sus entradas de datos"
   ]
  },
  {
   "cell_type": "code",
   "execution_count": 54,
   "id": "19afdf9d",
   "metadata": {},
   "outputs": [],
   "source": [
    "# 1a = 4 # De esta forma no se puede declarar una variable."
   ]
  },
  {
   "cell_type": "code",
   "execution_count": 55,
   "id": "188b92f8",
   "metadata": {},
   "outputs": [],
   "source": [
    "a1 = 4 # De esta forma si se puede declarar una variable."
   ]
  },
  {
   "cell_type": "code",
   "execution_count": 56,
   "id": "2af864c3",
   "metadata": {},
   "outputs": [],
   "source": [
    "aa11AA = 1"
   ]
  },
  {
   "cell_type": "code",
   "execution_count": 57,
   "id": "ceefa300",
   "metadata": {},
   "outputs": [],
   "source": [
    "_a = 1"
   ]
  },
  {
   "cell_type": "code",
   "execution_count": 58,
   "id": "53cb7a5d",
   "metadata": {},
   "outputs": [
    {
     "name": "stdout",
     "output_type": "stream",
     "text": [
      "1\n"
     ]
    }
   ],
   "source": [
    "print(_a)"
   ]
  },
  {
   "cell_type": "code",
   "execution_count": 59,
   "id": "8d604a82",
   "metadata": {},
   "outputs": [],
   "source": [
    "?a = 1"
   ]
  },
  {
   "cell_type": "markdown",
   "id": "d279cbf7",
   "metadata": {},
   "source": [
    "# Operadores de comparación\n",
    "``` python\n",
    "== igualdad\n",
    "> mayor que\n",
    "< menor que\n",
    "!= diferente\n",
    ">= mayor o igual\n",
    "<= menor o igual\n",
    "```"
   ]
  },
  {
   "cell_type": "code",
   "execution_count": 60,
   "id": "9313f8c9",
   "metadata": {},
   "outputs": [
    {
     "data": {
      "text/plain": [
       "True"
      ]
     },
     "execution_count": 60,
     "metadata": {},
     "output_type": "execute_result"
    }
   ],
   "source": [
    "1==1"
   ]
  },
  {
   "cell_type": "code",
   "execution_count": 61,
   "id": "06748344",
   "metadata": {},
   "outputs": [
    {
     "data": {
      "text/plain": [
       "False"
      ]
     },
     "execution_count": 61,
     "metadata": {},
     "output_type": "execute_result"
    }
   ],
   "source": [
    "1==2"
   ]
  },
  {
   "cell_type": "code",
   "execution_count": 62,
   "id": "91700c5e",
   "metadata": {},
   "outputs": [
    {
     "data": {
      "text/plain": [
       "False"
      ]
     },
     "execution_count": 62,
     "metadata": {},
     "output_type": "execute_result"
    }
   ],
   "source": [
    "1!=1"
   ]
  },
  {
   "cell_type": "code",
   "execution_count": 63,
   "id": "0b91142b",
   "metadata": {},
   "outputs": [
    {
     "data": {
      "text/plain": [
       "True"
      ]
     },
     "execution_count": 63,
     "metadata": {},
     "output_type": "execute_result"
    }
   ],
   "source": [
    "1!=100"
   ]
  },
  {
   "cell_type": "code",
   "execution_count": 64,
   "id": "12a81cf7",
   "metadata": {},
   "outputs": [
    {
     "data": {
      "text/plain": [
       "True"
      ]
     },
     "execution_count": 64,
     "metadata": {},
     "output_type": "execute_result"
    }
   ],
   "source": [
    "True == True"
   ]
  },
  {
   "cell_type": "code",
   "execution_count": 66,
   "id": "58d61839",
   "metadata": {},
   "outputs": [
    {
     "data": {
      "text/plain": [
       "True"
      ]
     },
     "execution_count": 66,
     "metadata": {},
     "output_type": "execute_result"
    }
   ],
   "source": [
    "False == False"
   ]
  },
  {
   "cell_type": "code",
   "execution_count": 67,
   "id": "e7e771bc",
   "metadata": {},
   "outputs": [
    {
     "data": {
      "text/plain": [
       "True"
      ]
     },
     "execution_count": 67,
     "metadata": {},
     "output_type": "execute_result"
    }
   ],
   "source": [
    "True != False"
   ]
  },
  {
   "cell_type": "code",
   "execution_count": 68,
   "id": "f654b9bf",
   "metadata": {},
   "outputs": [
    {
     "data": {
      "text/plain": [
       "False"
      ]
     },
     "execution_count": 68,
     "metadata": {},
     "output_type": "execute_result"
    }
   ],
   "source": [
    "True <= False"
   ]
  },
  {
   "cell_type": "code",
   "execution_count": 69,
   "id": "b60167f1",
   "metadata": {},
   "outputs": [
    {
     "data": {
      "text/plain": [
       "True"
      ]
     },
     "execution_count": 69,
     "metadata": {},
     "output_type": "execute_result"
    }
   ],
   "source": [
    "True"
   ]
  },
  {
   "cell_type": "markdown",
   "id": "68896645",
   "metadata": {},
   "source": [
    "# Operadores lógicos\n",
    "## Operador lógico 'not'"
   ]
  },
  {
   "cell_type": "code",
   "execution_count": 70,
   "id": "3ff954c7",
   "metadata": {},
   "outputs": [
    {
     "data": {
      "text/plain": [
       "False"
      ]
     },
     "execution_count": 70,
     "metadata": {},
     "output_type": "execute_result"
    }
   ],
   "source": [
    "not True"
   ]
  },
  {
   "cell_type": "code",
   "execution_count": 71,
   "id": "663d8237",
   "metadata": {},
   "outputs": [
    {
     "data": {
      "text/plain": [
       "True"
      ]
     },
     "execution_count": 71,
     "metadata": {},
     "output_type": "execute_result"
    }
   ],
   "source": [
    "not False"
   ]
  },
  {
   "cell_type": "markdown",
   "id": "a69d10c1",
   "metadata": {},
   "source": [
    "## Operador lógico 'and'"
   ]
  },
  {
   "cell_type": "code",
   "execution_count": 72,
   "id": "c4e2f69a",
   "metadata": {},
   "outputs": [
    {
     "data": {
      "text/plain": [
       "True"
      ]
     },
     "execution_count": 72,
     "metadata": {},
     "output_type": "execute_result"
    }
   ],
   "source": [
    "True and True"
   ]
  },
  {
   "cell_type": "code",
   "execution_count": 73,
   "id": "b7b10a14",
   "metadata": {},
   "outputs": [
    {
     "data": {
      "text/plain": [
       "False"
      ]
     },
     "execution_count": 73,
     "metadata": {},
     "output_type": "execute_result"
    }
   ],
   "source": [
    "True and False"
   ]
  },
  {
   "cell_type": "code",
   "execution_count": 74,
   "id": "cd37912a",
   "metadata": {},
   "outputs": [
    {
     "data": {
      "text/plain": [
       "False"
      ]
     },
     "execution_count": 74,
     "metadata": {},
     "output_type": "execute_result"
    }
   ],
   "source": [
    "False and True"
   ]
  },
  {
   "cell_type": "code",
   "execution_count": 75,
   "id": "900fbc23",
   "metadata": {},
   "outputs": [
    {
     "data": {
      "text/plain": [
       "False"
      ]
     },
     "execution_count": 75,
     "metadata": {},
     "output_type": "execute_result"
    }
   ],
   "source": [
    "False and False"
   ]
  },
  {
   "cell_type": "markdown",
   "id": "8670a924",
   "metadata": {},
   "source": [
    "## Operador lógico 'or'"
   ]
  },
  {
   "cell_type": "code",
   "execution_count": 76,
   "id": "d8464eee",
   "metadata": {},
   "outputs": [
    {
     "data": {
      "text/plain": [
       "True"
      ]
     },
     "execution_count": 76,
     "metadata": {},
     "output_type": "execute_result"
    }
   ],
   "source": [
    "True or True"
   ]
  },
  {
   "cell_type": "code",
   "execution_count": 77,
   "id": "c7686c4f",
   "metadata": {},
   "outputs": [
    {
     "data": {
      "text/plain": [
       "True"
      ]
     },
     "execution_count": 77,
     "metadata": {},
     "output_type": "execute_result"
    }
   ],
   "source": [
    "True or False"
   ]
  },
  {
   "cell_type": "code",
   "execution_count": 78,
   "id": "834e0156",
   "metadata": {},
   "outputs": [
    {
     "data": {
      "text/plain": [
       "True"
      ]
     },
     "execution_count": 78,
     "metadata": {},
     "output_type": "execute_result"
    }
   ],
   "source": [
    "False or True"
   ]
  },
  {
   "cell_type": "code",
   "execution_count": 79,
   "id": "98f15bf1",
   "metadata": {},
   "outputs": [
    {
     "data": {
      "text/plain": [
       "False"
      ]
     },
     "execution_count": 79,
     "metadata": {},
     "output_type": "execute_result"
    }
   ],
   "source": [
    "False or False"
   ]
  },
  {
   "cell_type": "markdown",
   "id": "f2871ddb",
   "metadata": {},
   "source": [
    "# Operaciones del tipo de cadena de caracteres"
   ]
  },
  {
   "cell_type": "code",
   "execution_count": 80,
   "id": "96088a22",
   "metadata": {},
   "outputs": [
    {
     "name": "stdout",
     "output_type": "stream",
     "text": [
      "A\n"
     ]
    }
   ],
   "source": [
    "print('A')"
   ]
  },
  {
   "cell_type": "code",
   "execution_count": 81,
   "id": "d60fbf1b",
   "metadata": {},
   "outputs": [
    {
     "name": "stdout",
     "output_type": "stream",
     "text": [
      "1\n"
     ]
    }
   ],
   "source": [
    "print(len('A'))"
   ]
  },
  {
   "cell_type": "code",
   "execution_count": 82,
   "id": "707ca86d",
   "metadata": {},
   "outputs": [
    {
     "name": "stdout",
     "output_type": "stream",
     "text": [
      "4\n"
     ]
    }
   ],
   "source": [
    "print(len('Jhon'))"
   ]
  },
  {
   "cell_type": "code",
   "execution_count": 83,
   "id": "1d501162",
   "metadata": {},
   "outputs": [
    {
     "name": "stdout",
     "output_type": "stream",
     "text": [
      "10\n"
     ]
    }
   ],
   "source": [
    "a = 'hola mundo'\n",
    "print(len(a))"
   ]
  },
  {
   "cell_type": "code",
   "execution_count": 84,
   "id": "ddebd6e4",
   "metadata": {},
   "outputs": [
    {
     "data": {
      "text/plain": [
       "'h'"
      ]
     },
     "execution_count": 84,
     "metadata": {},
     "output_type": "execute_result"
    }
   ],
   "source": [
    "a[0]"
   ]
  },
  {
   "cell_type": "code",
   "execution_count": 85,
   "id": "f7e7146f",
   "metadata": {},
   "outputs": [
    {
     "data": {
      "text/plain": [
       "'o'"
      ]
     },
     "execution_count": 85,
     "metadata": {},
     "output_type": "execute_result"
    }
   ],
   "source": [
    "a[1]"
   ]
  },
  {
   "cell_type": "code",
   "execution_count": 86,
   "id": "952a9aa9",
   "metadata": {},
   "outputs": [
    {
     "data": {
      "text/plain": [
       "'l'"
      ]
     },
     "execution_count": 86,
     "metadata": {},
     "output_type": "execute_result"
    }
   ],
   "source": [
    "a[2]"
   ]
  },
  {
   "cell_type": "code",
   "execution_count": 87,
   "id": "bbe1eeb9",
   "metadata": {},
   "outputs": [
    {
     "data": {
      "text/plain": [
       "'a'"
      ]
     },
     "execution_count": 87,
     "metadata": {},
     "output_type": "execute_result"
    }
   ],
   "source": [
    "a[3]"
   ]
  },
  {
   "cell_type": "code",
   "execution_count": 88,
   "id": "2fd2a835",
   "metadata": {},
   "outputs": [
    {
     "data": {
      "text/plain": [
       "'o'"
      ]
     },
     "execution_count": 88,
     "metadata": {},
     "output_type": "execute_result"
    }
   ],
   "source": [
    "a[9]"
   ]
  },
  {
   "cell_type": "code",
   "execution_count": 89,
   "id": "98e1f154",
   "metadata": {},
   "outputs": [
    {
     "data": {
      "text/plain": [
       "'o'"
      ]
     },
     "execution_count": 89,
     "metadata": {},
     "output_type": "execute_result"
    }
   ],
   "source": [
    "a[-1]"
   ]
  },
  {
   "cell_type": "code",
   "execution_count": 90,
   "id": "55319442",
   "metadata": {},
   "outputs": [
    {
     "data": {
      "text/plain": [
       "'d'"
      ]
     },
     "execution_count": 90,
     "metadata": {},
     "output_type": "execute_result"
    }
   ],
   "source": [
    "a[-2]"
   ]
  },
  {
   "cell_type": "code",
   "execution_count": 91,
   "id": "d8bbe4dd",
   "metadata": {},
   "outputs": [
    {
     "data": {
      "text/plain": [
       "'n'"
      ]
     },
     "execution_count": 91,
     "metadata": {},
     "output_type": "execute_result"
    }
   ],
   "source": [
    "a[-3]"
   ]
  },
  {
   "cell_type": "code",
   "execution_count": 92,
   "id": "6c1ace2b",
   "metadata": {},
   "outputs": [
    {
     "name": "stdout",
     "output_type": "stream",
     "text": [
      "tttttttt\n"
     ]
    }
   ],
   "source": [
    "b='tttt'\n",
    "print(b*2)"
   ]
  },
  {
   "cell_type": "code",
   "execution_count": 93,
   "id": "218161ba",
   "metadata": {},
   "outputs": [
    {
     "name": "stdout",
     "output_type": "stream",
     "text": [
      "tttttttttttttttt\n"
     ]
    }
   ],
   "source": [
    "print(b*4)"
   ]
  },
  {
   "cell_type": "code",
   "execution_count": 94,
   "id": "3199b017",
   "metadata": {},
   "outputs": [
    {
     "name": "stdout",
     "output_type": "stream",
     "text": [
      "Mi edad es 29 años\n"
     ]
    }
   ],
   "source": [
    "edad = 29\n",
    "print('Mi edad es %d años' % edad)"
   ]
  },
  {
   "cell_type": "markdown",
   "id": "d9445005",
   "metadata": {},
   "source": [
    "Para la composición de caracteres, utilizaremos:\n",
    "``` python\n",
    "%d para números enteros\n",
    "%s para cadena de caracteres\n",
    "%f para números decimales\n",
    "```"
   ]
  },
  {
   "cell_type": "code",
   "execution_count": 96,
   "id": "163a6b26",
   "metadata": {},
   "outputs": [
    {
     "name": "stdout",
     "output_type": "stream",
     "text": [
      "Mi edad es veintinueve años\n"
     ]
    }
   ],
   "source": [
    "edad = 'veintinueve'\n",
    "print('Mi edad es %s años' % edad)"
   ]
  },
  {
   "cell_type": "code",
   "execution_count": 99,
   "id": "dfd16035",
   "metadata": {},
   "outputs": [
    {
     "name": "stdout",
     "output_type": "stream",
     "text": [
      "nueve\n"
     ]
    }
   ],
   "source": [
    "print(edad[6:11])"
   ]
  },
  {
   "cell_type": "markdown",
   "id": "f97b89eb",
   "metadata": {},
   "source": [
    "# Entrada de datos"
   ]
  },
  {
   "cell_type": "code",
   "execution_count": 102,
   "id": "db39167a",
   "metadata": {},
   "outputs": [
    {
     "name": "stdout",
     "output_type": "stream",
     "text": [
      "Ingresa tu nombregesell\n"
     ]
    }
   ],
   "source": [
    "x = input('Ingresa tu nombre')"
   ]
  },
  {
   "cell_type": "code",
   "execution_count": 101,
   "id": "522b6399",
   "metadata": {},
   "outputs": [
    {
     "data": {
      "text/plain": [
       "str"
      ]
     },
     "execution_count": 101,
     "metadata": {},
     "output_type": "execute_result"
    }
   ],
   "source": [
    "type(x)"
   ]
  },
  {
   "cell_type": "code",
   "execution_count": 103,
   "id": "78ddbeaa",
   "metadata": {},
   "outputs": [
    {
     "name": "stdout",
     "output_type": "stream",
     "text": [
      "ingrese su nombre: jhon\n",
      "Usted digito jhon\n",
      "Hola, jhon!\n"
     ]
    }
   ],
   "source": [
    "nombre = input(\"ingrese su nombre: \")\n",
    "print(\"Usted digito %s\" % nombre)\n",
    "print(\"Hola, %s!\" % nombre)"
   ]
  },
  {
   "cell_type": "markdown",
   "id": "5fa09149",
   "metadata": {},
   "source": [
    "###### Ejercicio 06\n",
    "Calculamos el bono por el tiempo de servicio"
   ]
  },
  {
   "cell_type": "code",
   "execution_count": 108,
   "id": "3a6f17c2",
   "metadata": {},
   "outputs": [
    {
     "name": "stdout",
     "output_type": "stream",
     "text": [
      "Años de servicio: 10\n",
      "Valor por año: 40\n",
      "Bono de $ 400.0000\n"
     ]
    }
   ],
   "source": [
    "años = int(input(\"Años de servicio: \"))\n",
    "valor_por_año = float(input(\"Valor por año: \"))\n",
    "bono = años * valor_por_año\n",
    "print(\"Bono de $ %2.4f\" % bono)"
   ]
  },
  {
   "cell_type": "markdown",
   "id": "761bd2b9",
   "metadata": {},
   "source": [
    "###### Ejercicio 07\n",
    "Haga un programa que pida dos números flotantes. Imprima la multiplicacion de esos números en la pantalla.\n",
    "\n",
    "###### Ejercicio 08\n",
    "Escriba un programa que lea un valor en grados Centigrados y lo muestre en grados Farenheit.\n",
    "\n",
    "###### Ejercicio 09\n",
    "Escriba un programa que lea la cantidad de días, horas, minutos del usuario. Calcule el tiempo total en segundos.\n",
    "\n",
    "###### Ejercicio 10\n",
    "Haga un programa que calcule el aumento de un salario. Debe solicitar el valor del salario y el porcentaje de aumento. Muestre el nuevo salario como salida del programa.\n",
    "\n",
    "###### Ejercicio 11\n",
    "Haga un programa que solicite el precio de una mercadería y el porcentaje de descuentol. Exhiba el valor del descuento y el precio a pagar."
   ]
  },
  {
   "cell_type": "markdown",
   "id": "365e9353",
   "metadata": {},
   "source": [
    "# Control de Flujo\n",
    "\n",
    "## Esquema 'if'\n",
    "``` python\n",
    "if <condición>:\n",
    "    bloque\n",
    "```"
   ]
  },
  {
   "cell_type": "code",
   "execution_count": 113,
   "id": "68d48134",
   "metadata": {},
   "outputs": [
    {
     "name": "stdout",
     "output_type": "stream",
     "text": [
      "Primer elemento: 5\n",
      "Segundo elemento: 10\n",
      "el primer elemento 'a' es menor que el elemento 'b'\n"
     ]
    }
   ],
   "source": [
    "a=int(input(\"Primer elemento: \"))\n",
    "b=int(input(\"Segundo elemento: \"))\n",
    "if a>b:\n",
    "    print(\"el primer elemento 'a' es mayor que el elemento 'b'\")\n",
    "if a==b:\n",
    "    print(\"el elemento 'a' es igual a 'b'\")\n",
    "if a<b:\n",
    "    print(\"el primer elemento 'a' es menor que el elemento 'b'\")"
   ]
  },
  {
   "cell_type": "markdown",
   "id": "c581f769",
   "metadata": {},
   "source": [
    "###### Ejercicio 12\n",
    "Uste adquiere un vehículo, defina si es nuevo o viejo.\n",
    "Si es mayor a 5 años, diremos que es un auto viejo.\n",
    "Si es menor a 5 años, diremos que es un auto nuevo."
   ]
  },
  {
   "cell_type": "code",
   "execution_count": 115,
   "id": "77faebc9",
   "metadata": {},
   "outputs": [
    {
     "name": "stdout",
     "output_type": "stream",
     "text": [
      "Edad del vehículo: 1\n",
      "El vehículo es nuevo.\n"
     ]
    }
   ],
   "source": [
    "a=int(input(\"Edad del vehículo: \"))\n",
    "if a>5:\n",
    "    print(\"El vehículo es viejo.\")\n",
    "if a<=5:\n",
    "    print(\"El vehículo es nuevo.\")"
   ]
  },
  {
   "cell_type": "markdown",
   "id": "4b9a799a",
   "metadata": {},
   "source": [
    "###### Ejercicio 13\n",
    "Escriba un programa que lea tres números y que imprima el mayor y el menor.\n",
    "\n",
    "###### Ejercicio 14\n",
    "Escriba un programa que pregunte el salario del empleado y calcule el valor del aumento. Para salarios superiores a 1500 soles, calcule un aumento del 8%. Para los inferiores o iguales del 10%."
   ]
  },
  {
   "cell_type": "code",
   "execution_count": null,
   "id": "5cf43167",
   "metadata": {},
   "outputs": [],
   "source": []
  }
 ],
 "metadata": {
  "kernelspec": {
   "display_name": "Python 3",
   "language": "python",
   "name": "python3"
  },
  "language_info": {
   "codemirror_mode": {
    "name": "ipython",
    "version": 3
   },
   "file_extension": ".py",
   "mimetype": "text/x-python",
   "name": "python",
   "nbconvert_exporter": "python",
   "pygments_lexer": "ipython3",
   "version": "3.5.6"
  }
 },
 "nbformat": 4,
 "nbformat_minor": 5
}
