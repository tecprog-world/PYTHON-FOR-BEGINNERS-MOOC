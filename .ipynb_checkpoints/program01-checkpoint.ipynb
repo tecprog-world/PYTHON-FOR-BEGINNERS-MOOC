{
 "cells": [
  {
   "cell_type": "markdown",
   "id": "62e4f15a",
   "metadata": {},
   "source": [
    "# HOLA MUNDO"
   ]
  },
  {
   "cell_type": "code",
   "execution_count": 5,
   "id": "d112eed4",
   "metadata": {
    "scrolled": false
   },
   "outputs": [
    {
     "name": "stdout",
     "output_type": "stream",
     "text": [
      "Hola mundo!\n"
     ]
    }
   ],
   "source": [
    "print('Hola mundo!')"
   ]
  },
  {
   "cell_type": "markdown",
   "id": "ad2d54d0",
   "metadata": {},
   "source": [
    "# OPERACIONES ARITMÉTICAS"
   ]
  },
  {
   "cell_type": "code",
   "execution_count": 4,
   "id": "ca6f7cea",
   "metadata": {
    "scrolled": false
   },
   "outputs": [
    {
     "data": {
      "text/plain": [
       "7.6"
      ]
     },
     "execution_count": 4,
     "metadata": {},
     "output_type": "execute_result"
    }
   ],
   "source": [
    "2.5+5.1"
   ]
  },
  {
   "cell_type": "code",
   "execution_count": 6,
   "id": "a6317188",
   "metadata": {},
   "outputs": [
    {
     "data": {
      "text/plain": [
       "-1"
      ]
     },
     "execution_count": 6,
     "metadata": {},
     "output_type": "execute_result"
    }
   ],
   "source": [
    "2+5\n",
    "3-4"
   ]
  },
  {
   "cell_type": "code",
   "execution_count": 7,
   "id": "bb5565aa",
   "metadata": {},
   "outputs": [
    {
     "data": {
      "text/plain": [
       "9"
      ]
     },
     "execution_count": 7,
     "metadata": {},
     "output_type": "execute_result"
    }
   ],
   "source": [
    "2+5\n",
    "3-4\n",
    "1+8"
   ]
  },
  {
   "cell_type": "code",
   "execution_count": 16,
   "id": "23528847",
   "metadata": {},
   "outputs": [
    {
     "name": "stdout",
     "output_type": "stream",
     "text": [
      "7\n",
      "-1\n",
      "9\n"
     ]
    }
   ],
   "source": [
    "print(2+5)\n",
    "print(3-4)\n",
    "print(1+8)"
   ]
  },
  {
   "cell_type": "code",
   "execution_count": 17,
   "id": "088167b8",
   "metadata": {},
   "outputs": [
    {
     "data": {
      "text/plain": [
       "290"
      ]
     },
     "execution_count": 17,
     "metadata": {},
     "output_type": "execute_result"
    }
   ],
   "source": [
    "29*10"
   ]
  },
  {
   "cell_type": "code",
   "execution_count": 18,
   "id": "74d842fa",
   "metadata": {},
   "outputs": [
    {
     "data": {
      "text/plain": [
       "5.0"
      ]
     },
     "execution_count": 18,
     "metadata": {},
     "output_type": "execute_result"
    }
   ],
   "source": [
    "20/4"
   ]
  },
  {
   "cell_type": "code",
   "execution_count": 19,
   "id": "ad3e2fad",
   "metadata": {},
   "outputs": [
    {
     "data": {
      "text/plain": [
       "1"
      ]
     },
     "execution_count": 19,
     "metadata": {},
     "output_type": "execute_result"
    }
   ],
   "source": [
    "10%3"
   ]
  },
  {
   "cell_type": "code",
   "execution_count": 20,
   "id": "6cae2a38",
   "metadata": {},
   "outputs": [
    {
     "data": {
      "text/plain": [
       "2"
      ]
     },
     "execution_count": 20,
     "metadata": {},
     "output_type": "execute_result"
    }
   ],
   "source": [
    "20%3"
   ]
  },
  {
   "cell_type": "code",
   "execution_count": 21,
   "id": "18b51778",
   "metadata": {},
   "outputs": [
    {
     "data": {
      "text/plain": [
       "1"
      ]
     },
     "execution_count": 21,
     "metadata": {},
     "output_type": "execute_result"
    }
   ],
   "source": [
    "28%3"
   ]
  },
  {
   "cell_type": "code",
   "execution_count": 22,
   "id": "f750e975",
   "metadata": {},
   "outputs": [
    {
     "data": {
      "text/plain": [
       "8"
      ]
     },
     "execution_count": 22,
     "metadata": {},
     "output_type": "execute_result"
    }
   ],
   "source": [
    "2**3"
   ]
  },
  {
   "cell_type": "markdown",
   "id": "9d22fe64",
   "metadata": {},
   "source": [
    "##### Ejercicio 01\n",
    "\n",
    "Convierte las siguientes expresiones para que pueda ser calculado usando el interprete de Python\n",
    "(2+(5^2))+{3*10}-50 "
   ]
  },
  {
   "cell_type": "code",
   "execution_count": 23,
   "id": "afc1d513",
   "metadata": {},
   "outputs": [
    {
     "data": {
      "text/plain": [
       "7"
      ]
     },
     "execution_count": 23,
     "metadata": {},
     "output_type": "execute_result"
    }
   ],
   "source": [
    "2+(5**2)+(3*10)-50"
   ]
  },
  {
   "cell_type": "markdown",
   "id": "ef5ff0a9",
   "metadata": {},
   "source": [
    "# VARIABLES"
   ]
  },
  {
   "cell_type": "code",
   "execution_count": 37,
   "id": "996053e7",
   "metadata": {},
   "outputs": [],
   "source": [
    "a=1.3"
   ]
  },
  {
   "cell_type": "code",
   "execution_count": 38,
   "id": "6e9dc42a",
   "metadata": {},
   "outputs": [],
   "source": [
    "b=5"
   ]
  },
  {
   "cell_type": "code",
   "execution_count": 39,
   "id": "99166116",
   "metadata": {},
   "outputs": [],
   "source": [
    "c=a+b"
   ]
  },
  {
   "cell_type": "code",
   "execution_count": 27,
   "id": "f1228fbd",
   "metadata": {},
   "outputs": [
    {
     "data": {
      "text/plain": [
       "1"
      ]
     },
     "execution_count": 27,
     "metadata": {},
     "output_type": "execute_result"
    }
   ],
   "source": [
    "a"
   ]
  },
  {
   "cell_type": "code",
   "execution_count": 28,
   "id": "3ef7d420",
   "metadata": {},
   "outputs": [
    {
     "data": {
      "text/plain": [
       "2"
      ]
     },
     "execution_count": 28,
     "metadata": {},
     "output_type": "execute_result"
    }
   ],
   "source": [
    "b"
   ]
  },
  {
   "cell_type": "code",
   "execution_count": 29,
   "id": "8a90ede2",
   "metadata": {},
   "outputs": [
    {
     "data": {
      "text/plain": [
       "3"
      ]
     },
     "execution_count": 29,
     "metadata": {},
     "output_type": "execute_result"
    }
   ],
   "source": [
    "c"
   ]
  },
  {
   "cell_type": "code",
   "execution_count": 30,
   "id": "f40e1e96",
   "metadata": {},
   "outputs": [
    {
     "data": {
      "text/plain": [
       "3"
      ]
     },
     "execution_count": 30,
     "metadata": {},
     "output_type": "execute_result"
    }
   ],
   "source": [
    "a\n",
    "b\n",
    "c"
   ]
  },
  {
   "cell_type": "code",
   "execution_count": 31,
   "id": "0ca1c2af",
   "metadata": {},
   "outputs": [
    {
     "name": "stdout",
     "output_type": "stream",
     "text": [
      "1\n",
      "2\n",
      "3\n"
     ]
    }
   ],
   "source": [
    "print(a)\n",
    "print(b)\n",
    "print(c)"
   ]
  },
  {
   "cell_type": "code",
   "execution_count": 40,
   "id": "f64fc13b",
   "metadata": {},
   "outputs": [
    {
     "data": {
      "text/plain": [
       "6.3"
      ]
     },
     "execution_count": 40,
     "metadata": {},
     "output_type": "execute_result"
    }
   ],
   "source": [
    "c"
   ]
  },
  {
   "cell_type": "code",
   "execution_count": 41,
   "id": "ea5f41aa",
   "metadata": {},
   "outputs": [
    {
     "data": {
      "text/plain": [
       "float"
      ]
     },
     "execution_count": 41,
     "metadata": {},
     "output_type": "execute_result"
    }
   ],
   "source": [
    "type(a)"
   ]
  },
  {
   "cell_type": "code",
   "execution_count": 42,
   "id": "7184ece3",
   "metadata": {},
   "outputs": [],
   "source": [
    "p=\"hola\""
   ]
  },
  {
   "cell_type": "code",
   "execution_count": 43,
   "id": "2dfcd717",
   "metadata": {},
   "outputs": [
    {
     "data": {
      "text/plain": [
       "'hola'"
      ]
     },
     "execution_count": 43,
     "metadata": {},
     "output_type": "execute_result"
    }
   ],
   "source": [
    "p"
   ]
  },
  {
   "cell_type": "code",
   "execution_count": 44,
   "id": "656f41d5",
   "metadata": {},
   "outputs": [
    {
     "name": "stdout",
     "output_type": "stream",
     "text": [
      "hola\n"
     ]
    }
   ],
   "source": [
    "print(p)"
   ]
  },
  {
   "cell_type": "code",
   "execution_count": 45,
   "id": "23943d68",
   "metadata": {},
   "outputs": [
    {
     "data": {
      "text/plain": [
       "str"
      ]
     },
     "execution_count": 45,
     "metadata": {},
     "output_type": "execute_result"
    }
   ],
   "source": [
    "type(p)"
   ]
  },
  {
   "cell_type": "code",
   "execution_count": 46,
   "id": "e166c485",
   "metadata": {},
   "outputs": [],
   "source": [
    "q=\"Jhon\""
   ]
  },
  {
   "cell_type": "code",
   "execution_count": 47,
   "id": "49c8dbd5",
   "metadata": {},
   "outputs": [
    {
     "name": "stdout",
     "output_type": "stream",
     "text": [
      "holaJhon\n"
     ]
    }
   ],
   "source": [
    "print(p+q)"
   ]
  },
  {
   "cell_type": "code",
   "execution_count": 48,
   "id": "ce8b0546",
   "metadata": {},
   "outputs": [
    {
     "name": "stdout",
     "output_type": "stream",
     "text": [
      "hola Jhon\n"
     ]
    }
   ],
   "source": [
    "print(p+\" \"+q)"
   ]
  },
  {
   "cell_type": "code",
   "execution_count": 50,
   "id": "913a2f1d",
   "metadata": {},
   "outputs": [
    {
     "name": "stdout",
     "output_type": "stream",
     "text": [
      "Esta es la variable a: 1.3\n"
     ]
    }
   ],
   "source": [
    "print(\"Esta es la variable a: \"+str(a))"
   ]
  },
  {
   "cell_type": "markdown",
   "id": "815dc84e",
   "metadata": {},
   "source": [
    "###### Ejercicio 02\n",
    "Una persona tiene un salario de 3000 unidades, y se requiere dar un aumento del 5% , que valor será el nuevo salario:"
   ]
  },
  {
   "cell_type": "code",
   "execution_count": 51,
   "id": "87c53a26",
   "metadata": {},
   "outputs": [
    {
     "name": "stdout",
     "output_type": "stream",
     "text": [
      "3150.0\n"
     ]
    }
   ],
   "source": [
    "salario = 3000\n",
    "aumento = 5\n",
    "print(salario + (salario*5/100))"
   ]
  },
  {
   "cell_type": "markdown",
   "id": "8dce2d73",
   "metadata": {},
   "source": [
    "##### Ejercicio 03\n",
    "Haga un programa que muestre su nombre.\n",
    "##### Ejercicio 04\n",
    "Escriba un programa que muestre el resultado de 2a*4b , donde a vale 10 y b vale 5\n",
    "##### Ejercicio 05\n",
    "Modifique el ejercicio 02 y halle un aumento del 15%."
   ]
  },
  {
   "cell_type": "markdown",
   "id": "9f1e39fc",
   "metadata": {},
   "source": [
    "# Variables y sus entradas de datos"
   ]
  },
  {
   "cell_type": "code",
   "execution_count": 54,
   "id": "b9ea3521",
   "metadata": {},
   "outputs": [],
   "source": [
    "# 1a = 4 # De esta forma no se puede declarar una variable."
   ]
  },
  {
   "cell_type": "code",
   "execution_count": 55,
   "id": "b5bebc45",
   "metadata": {},
   "outputs": [],
   "source": [
    "a1 = 4 # De esta forma si se puede declarar una variable."
   ]
  },
  {
   "cell_type": "code",
   "execution_count": 56,
   "id": "1b0b5ca5",
   "metadata": {},
   "outputs": [],
   "source": [
    "aa11AA = 1"
   ]
  },
  {
   "cell_type": "code",
   "execution_count": 57,
   "id": "3637e336",
   "metadata": {},
   "outputs": [],
   "source": [
    "_a = 1"
   ]
  },
  {
   "cell_type": "code",
   "execution_count": 58,
   "id": "d336fda1",
   "metadata": {},
   "outputs": [
    {
     "name": "stdout",
     "output_type": "stream",
     "text": [
      "1\n"
     ]
    }
   ],
   "source": [
    "print(_a)"
   ]
  },
  {
   "cell_type": "code",
   "execution_count": 59,
   "id": "2cee3e19",
   "metadata": {},
   "outputs": [],
   "source": [
    "?a = 1"
   ]
  },
  {
   "cell_type": "markdown",
   "id": "d69a4ea2",
   "metadata": {},
   "source": [
    "# Operadores de comparación\n",
    "``` python\n",
    "== igualdad\n",
    "> mayor que\n",
    "< menor que\n",
    "!= diferente\n",
    ">= mayor o igual\n",
    "<= menor o igual\n",
    "```"
   ]
  },
  {
   "cell_type": "code",
   "execution_count": 60,
   "id": "34b62c27",
   "metadata": {},
   "outputs": [
    {
     "data": {
      "text/plain": [
       "True"
      ]
     },
     "execution_count": 60,
     "metadata": {},
     "output_type": "execute_result"
    }
   ],
   "source": [
    "1==1"
   ]
  },
  {
   "cell_type": "code",
   "execution_count": 61,
   "id": "ff0049e2",
   "metadata": {},
   "outputs": [
    {
     "data": {
      "text/plain": [
       "False"
      ]
     },
     "execution_count": 61,
     "metadata": {},
     "output_type": "execute_result"
    }
   ],
   "source": [
    "1==2"
   ]
  },
  {
   "cell_type": "code",
   "execution_count": 62,
   "id": "9be946ba",
   "metadata": {},
   "outputs": [
    {
     "data": {
      "text/plain": [
       "False"
      ]
     },
     "execution_count": 62,
     "metadata": {},
     "output_type": "execute_result"
    }
   ],
   "source": [
    "1!=1"
   ]
  },
  {
   "cell_type": "code",
   "execution_count": 63,
   "id": "19811519",
   "metadata": {},
   "outputs": [
    {
     "data": {
      "text/plain": [
       "True"
      ]
     },
     "execution_count": 63,
     "metadata": {},
     "output_type": "execute_result"
    }
   ],
   "source": [
    "1!=100"
   ]
  },
  {
   "cell_type": "code",
   "execution_count": 64,
   "id": "b5c7e621",
   "metadata": {},
   "outputs": [
    {
     "data": {
      "text/plain": [
       "True"
      ]
     },
     "execution_count": 64,
     "metadata": {},
     "output_type": "execute_result"
    }
   ],
   "source": [
    "True == True"
   ]
  },
  {
   "cell_type": "code",
   "execution_count": 66,
   "id": "a6f2ab71",
   "metadata": {},
   "outputs": [
    {
     "data": {
      "text/plain": [
       "True"
      ]
     },
     "execution_count": 66,
     "metadata": {},
     "output_type": "execute_result"
    }
   ],
   "source": [
    "False == False"
   ]
  },
  {
   "cell_type": "code",
   "execution_count": 67,
   "id": "168239ff",
   "metadata": {},
   "outputs": [
    {
     "data": {
      "text/plain": [
       "True"
      ]
     },
     "execution_count": 67,
     "metadata": {},
     "output_type": "execute_result"
    }
   ],
   "source": [
    "True != False"
   ]
  },
  {
   "cell_type": "code",
   "execution_count": 68,
   "id": "1cc87951",
   "metadata": {},
   "outputs": [
    {
     "data": {
      "text/plain": [
       "False"
      ]
     },
     "execution_count": 68,
     "metadata": {},
     "output_type": "execute_result"
    }
   ],
   "source": [
    "True <= False"
   ]
  },
  {
   "cell_type": "code",
   "execution_count": 69,
   "id": "7f491edd",
   "metadata": {},
   "outputs": [
    {
     "data": {
      "text/plain": [
       "True"
      ]
     },
     "execution_count": 69,
     "metadata": {},
     "output_type": "execute_result"
    }
   ],
   "source": [
    "True"
   ]
  },
  {
   "cell_type": "code",
   "execution_count": null,
   "id": "277137f3",
   "metadata": {},
   "outputs": [],
   "source": []
  }
 ],
 "metadata": {
  "kernelspec": {
   "display_name": "Python 3",
   "language": "python",
   "name": "python3"
  },
  "language_info": {
   "codemirror_mode": {
    "name": "ipython",
    "version": 3
   },
   "file_extension": ".py",
   "mimetype": "text/x-python",
   "name": "python",
   "nbconvert_exporter": "python",
   "pygments_lexer": "ipython3",
   "version": "3.5.6"
  }
 },
 "nbformat": 4,
 "nbformat_minor": 5
}
